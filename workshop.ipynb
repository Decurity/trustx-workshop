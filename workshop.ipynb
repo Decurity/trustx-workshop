{
 "cells": [
  {
   "cell_type": "markdown",
   "metadata": {},
   "source": [
    "# Compound precision loss vulnerability scanning\n",
    "\n",
    "## Get listed markets\n",
    "```sql\n",
    "SELECT DISTINCT contract_address as comptroller, '0x' || SUBSTRING(data, -40) as market\n",
    "FROM arbitrum.core.fact_event_logs\n",
    "WHERE topics[0] = '0xcf583bb0c569eb967f806b11601c4cb93c10310485c67add5f8362c2f212321f' /* MarketListed(address) */\n",
    "```"
   ]
  },
  {
   "cell_type": "markdown",
   "metadata": {},
   "source": [
    "## Find markets with totalSupply = 0"
   ]
  },
  {
   "cell_type": "code",
   "execution_count": 42,
   "metadata": {},
   "outputs": [
    {
     "name": "stderr",
     "output_type": "stream",
     "text": [
      "Processing contracts: 100%|██████████| 757/757 [01:31<00:00,  8.27it/s]"
     ]
    },
    {
     "name": "stdout",
     "output_type": "stream",
     "text": [
      "Empty markets:  345\n"
     ]
    },
    {
     "name": "stderr",
     "output_type": "stream",
     "text": [
      "\n"
     ]
    }
   ],
   "source": [
    "import os\n",
    "import pandas as pd\n",
    "from web3 import Web3\n",
    "from tqdm import tqdm\n",
    "from dotenv import load_dotenv\n",
    "\n",
    "data = pd.read_csv('arbitrum.csv')\n",
    "data['TOTAL_SUPPLY'] = None\n",
    "data['COLATERAL_FACTOR'] = None\n",
    "\n",
    "load_dotenv()\n",
    "\n",
    "rpc_url = os.getenv('ETH_RPC_URL', 'https://rpc.ankr.com/arbitrum')\n",
    "w3 = Web3(Web3.HTTPProvider(rpc_url))\n",
    "\n",
    "for index, row in tqdm(data.iterrows(), desc=\"Processing contracts\", total=data.shape[0]):\n",
    "    market = row.get(\"MARKET\")\n",
    "    if market == '0x':\n",
    "        data.at[index, 'TOTAL_SUPPLY'] = None\n",
    "        continue\n",
    "    market = w3.to_checksum_address(market)\n",
    "    contract = w3.eth.contract(\n",
    "        address=market, \n",
    "        abi=[{\n",
    "            \"constant\": True,\n",
    "            \"inputs\": [],\n",
    "            \"name\": \"totalSupply\",\n",
    "            \"outputs\": [{\"name\": \"\", \"type\": \"uint256\"}],\n",
    "            \"payable\": False,\n",
    "            \"stateMutability\": \"view\",\n",
    "            \"type\": \"function\"\n",
    "        }]\n",
    "    )\n",
    "    \n",
    "    try:\n",
    "        total_supply = contract.functions.totalSupply().call()\n",
    "    except Exception as e:\n",
    "        print(f\"Error calling totalSupply: {e}\")\n",
    "        data.at[index, 'TOTAL_SUPPLY'] = None\n",
    "        continue\n",
    "\n",
    "    data.at[index, 'TOTAL_SUPPLY'] = total_supply\n",
    "\n",
    "empty_markets = data[data['TOTAL_SUPPLY'] == 0]\n",
    "print(\"Empty markets: \", len(empty_markets))"
   ]
  },
  {
   "cell_type": "markdown",
   "metadata": {},
   "source": [
    "## Find markets with collateralFactor > 0"
   ]
  },
  {
   "cell_type": "code",
   "execution_count": 43,
   "metadata": {},
   "outputs": [
    {
     "name": "stderr",
     "output_type": "stream",
     "text": [
      "Processing empty markets: 100%|██████████| 345/345 [01:38<00:00,  3.50it/s]"
     ]
    },
    {
     "name": "stdout",
     "output_type": "stream",
     "text": [
      "Non-zero collateral factor markets:  241\n"
     ]
    },
    {
     "name": "stderr",
     "output_type": "stream",
     "text": [
      "\n"
     ]
    }
   ],
   "source": [
    "for index, item in tqdm(empty_markets.iterrows(), desc=\"Processing empty markets\", total=empty_markets.shape[0]):\n",
    "    comptroller_address = w3.to_checksum_address(item['COMPTROLLER'])\n",
    "    comptroller_variants = [\n",
    "        {\n",
    "            \"constant\": True,\n",
    "            \"inputs\": [{\"name\": \"market\", \"type\": \"address\"}],\n",
    "            \"name\": \"markets\",\n",
    "            \"outputs\": [\n",
    "                {\"name\": \"isListed\", \"type\": \"bool\"},\n",
    "                {\"name\": \"collateralFactorMantissa\", \"type\": \"uint256\"},\n",
    "                {\"name\": \"liquidationThresholdMantissa\", \"type\": \"uint256\"},\n",
    "                {\"name\": \"collateralFactorMantissaVip\", \"type\": \"uint256\"},\n",
    "                {\"name\": \"liquidationThresholdMantissaVip\", \"type\": \"uint256\"},\n",
    "                {\"name\": \"isComped\", \"type\": \"bool\"},\n",
    "                {\"name\": \"isPrivate\", \"type\": \"bool\"},\n",
    "                {\"name\": \"onlyWhitelistedBorrow\", \"type\": \"bool\"}\n",
    "            ],\n",
    "            \"payable\": False,\n",
    "            \"stateMutability\": \"view\",\n",
    "            \"type\": \"function\"\n",
    "        },\n",
    "        {\n",
    "            \"constant\": True,\n",
    "            \"inputs\": [{\"name\": \"market\", \"type\": \"address\"}],\n",
    "            \"name\": \"markets\",\n",
    "            \"outputs\": [\n",
    "                {\"name\": \"isListed\", \"type\": \"bool\"},\n",
    "                {\"name\": \"collateralFactorMantissa\", \"type\": \"uint256\"},\n",
    "                {\"name\": \"isComped\", \"type\": \"bool\"}\n",
    "            ],\n",
    "            \"payable\": False,\n",
    "            \"stateMutability\": \"view\",\n",
    "            \"type\": \"function\"\n",
    "        },\n",
    "        {\n",
    "            \"constant\": True,\n",
    "            \"inputs\": [{\"name\": \"market\", \"type\": \"address\"}],\n",
    "            \"name\": \"markets\",\n",
    "            \"outputs\": [\n",
    "                {\"name\": \"isListed\", \"type\": \"bool\"},\n",
    "                {\"name\": \"collateralFactorMantissa\", \"type\": \"uint256\"}\n",
    "            ],\n",
    "            \"payable\": False,\n",
    "            \"stateMutability\": \"view\",\n",
    "            \"type\": \"function\"\n",
    "        }\n",
    "    ]\n",
    "    \n",
    "    for variant in comptroller_variants:\n",
    "        try:\n",
    "            comptroller = w3.eth.contract(\n",
    "                address=comptroller_address, \n",
    "                abi=[variant]\n",
    "            )\n",
    "            market_info = comptroller.functions.markets(w3.to_checksum_address(item[\"MARKET\"])).call()\n",
    "            break\n",
    "        except Exception as e:\n",
    "            continue\n",
    "    else:\n",
    "        continue\n",
    "    if market_info[1] > 0:\n",
    "        #print(\"[Colateral Factor] market address: \", item[\"MARKET\"], \"comptroller address: \", item['COMPTROLLER'], \"colfactor: \", market_info[1])\n",
    "        data.at[index, 'COLATERAL_FACTOR'] = market_info[1]\n",
    "\n",
    "non_zero_colfactor_markets = data[data['COLATERAL_FACTOR'] > 0]\n",
    "print(\"Non-zero collateral factor markets: \", len(non_zero_colfactor_markets))\n"
   ]
  },
  {
   "cell_type": "markdown",
   "metadata": {},
   "source": [
    "## Calculate cash in comptrollers"
   ]
  },
  {
   "cell_type": "code",
   "execution_count": 44,
   "metadata": {},
   "outputs": [
    {
     "name": "stderr",
     "output_type": "stream",
     "text": [
      "/var/folders/4h/xq82s8553jzfpl6bxt6nstk00000gn/T/ipykernel_41918/4247130487.py:50: SettingWithCopyWarning: \n",
      "A value is trying to be set on a copy of a slice from a DataFrame\n",
      "\n",
      "See the caveats in the documentation: https://pandas.pydata.org/pandas-docs/stable/user_guide/indexing.html#returning-a-view-versus-a-copy\n",
      "  non_zero_colfactor_markets.drop_duplicates(subset=['COMPTROLLER'], keep='first', inplace=True)\n",
      "Processing markets:   1%|▏         | 1/77 [00:02<03:10,  2.50s/it]"
     ]
    },
    {
     "name": "stdout",
     "output_type": "stream",
     "text": [
      "Comptroller: 0xCEaFD4e9CAcC070AF99CCE086C27AEDa837F8bd4\n",
      "Market: 0x918368A637F6906002660cd6C5d3642d6cB6321C 0.2 USDT\n"
     ]
    },
    {
     "name": "stderr",
     "output_type": "stream",
     "text": [
      "Processing markets:   3%|▎         | 2/77 [00:09<06:16,  5.02s/it]"
     ]
    },
    {
     "name": "stdout",
     "output_type": "stream",
     "text": [
      "Comptroller: 0x49Ea2c991290cA13f57Ae2b8ca98bC6140925db3\n",
      "Market: 0x1446f9365361Dbca6d7fF94852e9383Bf3BCc7E9 1e-18 fsGLP\n",
      "Market: 0x038A8c9B8f25Fdb6d306FE1F4D99Ad9B3b3Ab722 6.9938753008483e-05 FRAX\n",
      "Market: 0x102517Ea9340eDd21afdfAA911560311FeEFc607 0.013166 USDT\n",
      "Market: 0xB1087a450373BB26BCf1A18E788269bde9c8fc85 0.478472 USDC\n",
      "Market: 0xa2F156bc04329f9D0C71804a5B56f130674F44c9 0.382040350032375 fsGLP\n",
      "Market: 0xD0af14CEe85b6612C02F75F35E90fE1f8e0fB2fD 3.6413875374481943 DAI\n",
      "Market: 0xB88A54C70bC3A984039E0AfEc65A27F05812A7fB 1.0000000001e-08 GMX\n",
      "Market: 0xE9d91a3E4A0A929E9A34510d44dFD335F39e17cB 0.1 fsGLP\n"
     ]
    },
    {
     "name": "stderr",
     "output_type": "stream",
     "text": [
      "Processing markets:   6%|▋         | 5/77 [00:19<04:23,  3.66s/it]"
     ]
    },
    {
     "name": "stdout",
     "output_type": "stream",
     "text": [
      "Comptroller: 0x08B55c9D3Ae64e31fD220E362c301497C1810DC9\n",
      "Market: 0x40BD6990Db92844FE34592FD6BE2F2836E1ff4F3 4.316449 USDT\n"
     ]
    },
    {
     "name": "stderr",
     "output_type": "stream",
     "text": [
      "Processing markets:  10%|█         | 8/77 [00:23<02:16,  1.98s/it]"
     ]
    },
    {
     "name": "stdout",
     "output_type": "stream",
     "text": [
      "Comptroller: 0x56F060101eA2f3f9A7a897CeFFc75556902C0a69\n",
      "Market: 0xe27165c16EF606a5D1767aF558a7aEa58d15e443 5e-06 USDT\n"
     ]
    },
    {
     "name": "stderr",
     "output_type": "stream",
     "text": [
      "Processing markets:  14%|█▍        | 11/77 [00:32<02:54,  2.64s/it]"
     ]
    },
    {
     "name": "stdout",
     "output_type": "stream",
     "text": [
      "Comptroller: 0x3886a3B02Ce2df807C050724E3013A88514D2310\n",
      "Market: 0x01C2a100717bce740887feb6B6Bea3072EAC80c9 0.5 USDC\n"
     ]
    },
    {
     "name": "stderr",
     "output_type": "stream",
     "text": [
      "Processing markets:  17%|█▋        | 13/77 [00:37<02:54,  2.73s/it]"
     ]
    },
    {
     "name": "stdout",
     "output_type": "stream",
     "text": [
      "Comptroller: 0xDD6C5707dEE472af3b53ab120D03d455e6Cc95F9\n",
      "Market: 0xBaA8dBa47514698008bE48F8d329E2B9F3876CB9 1e-18 ARB\n",
      "Market: 0xaf5ea1e8390DF64F2eB0Fc2968199E811B87ee4F 1e-18 TTA\n"
     ]
    },
    {
     "name": "stderr",
     "output_type": "stream",
     "text": [
      "Processing markets:  18%|█▊        | 14/77 [00:42<03:31,  3.36s/it]"
     ]
    },
    {
     "name": "stdout",
     "output_type": "stream",
     "text": [
      "Comptroller: 0xf4F9B60f2E588e72205BD4E214e773549925b96A\n",
      "Market: 0x83FF1F178Eb8FAc58A76F858eF200aED4c9D4F67 2.062506 USDC\n"
     ]
    },
    {
     "name": "stderr",
     "output_type": "stream",
     "text": [
      "Processing markets:  19%|█▉        | 15/77 [00:43<02:46,  2.69s/it]"
     ]
    },
    {
     "name": "stdout",
     "output_type": "stream",
     "text": [
      "Comptroller: 0x77c2FB05826770e92d402ec8F32A4e8CE9E26Cd9\n",
      "Market: 0x215542f153825cdAE2fdf9715337aA7B4b68405D 1.0 USDC\n"
     ]
    },
    {
     "name": "stderr",
     "output_type": "stream",
     "text": [
      "Processing markets:  26%|██▌       | 20/77 [00:56<02:19,  2.45s/it]"
     ]
    },
    {
     "name": "stdout",
     "output_type": "stream",
     "text": [
      "Comptroller: 0xca47e7f7606666f30564e767c185E952b5e902F7\n",
      "Market: 0xf2c26616A0c8aAcb6D5c8b80FC2c3fd5aFe1e6A6 29.403328922108937 MIM\n"
     ]
    },
    {
     "name": "stderr",
     "output_type": "stream",
     "text": [
      "Processing markets:  29%|██▊       | 22/77 [01:01<02:15,  2.47s/it]"
     ]
    },
    {
     "name": "stdout",
     "output_type": "stream",
     "text": [
      "Comptroller: 0xC7D021BD813F3b4BB801A4361Fbcf3703ed61716\n",
      "Market: 0x7328E15053B934ED99368e4eD49A850189976ef3 5.464433388785599 DAI\n",
      "Market: 0x12d7aDca8E504cf4A1DB6bdeDfaBA5885eF48f68 0.0178 LINK\n",
      "Market: 0xE0D7Fb6039E4156a358CB0EaD31A706b1caeff06 2.746747308563845 DPX\n",
      "Market: 0xFD69B5Ad5CFaeF73f2c900A5af4DfF1942F9A760 0.083984 USDC\n",
      "Market: 0x0ECFbE26eed3Bb00446dD372425Db2B305d8643b 0.001984628236183446 gOHM\n"
     ]
    },
    {
     "name": "stderr",
     "output_type": "stream",
     "text": [
      "Processing markets:  30%|██▉       | 23/77 [01:05<02:34,  2.86s/it]"
     ]
    },
    {
     "name": "stdout",
     "output_type": "stream",
     "text": [
      "Comptroller: 0xcD0c825106cF3067090b644652DAbf298c6889eE\n",
      "Market: 0x18df409534477d1ef29b2c2F0179E4419da4F113 1e-18 GMX\n"
     ]
    },
    {
     "name": "stderr",
     "output_type": "stream",
     "text": [
      "Processing markets:  31%|███       | 24/77 [01:09<03:00,  3.41s/it]"
     ]
    },
    {
     "name": "stdout",
     "output_type": "stream",
     "text": [
      "Comptroller: 0x1813554dc1F68cF54f71449db298DAf9Ab75F4F3\n",
      "Market: 0x2fFCF622f5E1b330C6a5f9002bd5292bF36FB3D8 0.0069916456551 fsGLP\n"
     ]
    },
    {
     "name": "stderr",
     "output_type": "stream",
     "text": [
      "Processing markets:  35%|███▌      | 27/77 [01:18<02:37,  3.15s/it]"
     ]
    },
    {
     "name": "stdout",
     "output_type": "stream",
     "text": [
      "Comptroller: 0x043263cA46230520Fa2BA06a86e5c6f77464e81E\n",
      "Market: 0xdD21fd9dbbC81a0194895Da7ee604d077ec6C183 6.6 USDC\n"
     ]
    },
    {
     "name": "stderr",
     "output_type": "stream",
     "text": [
      "Processing markets:  36%|███▋      | 28/77 [01:20<02:26,  2.99s/it]"
     ]
    },
    {
     "name": "stdout",
     "output_type": "stream",
     "text": [
      "Comptroller: 0x44a03C14F30D49cB43b7F7E91E987ecC10cc0b09\n",
      "Market: 0x7Db1399C0fdAfc38CaBF0bffc9fB9A512F2e6E23 173.777638419 OHM\n",
      "Market: 0xa5c97d9805C39fe735242Dee5Bb5a6d99595540B 1370.024011 USDC\n",
      "Market: 0xa874500A5b65277682AF3127BDa382BEcc3fCa02 4e-18 wstETH\n",
      "Market: 0xC5431BE989e74B526515EE0E8ADb9Bb5531a757e 4.251540258141659 WETH\n"
     ]
    },
    {
     "name": "stderr",
     "output_type": "stream",
     "text": [
      "Processing markets:  40%|████      | 31/77 [01:31<02:28,  3.24s/it]"
     ]
    },
    {
     "name": "stdout",
     "output_type": "stream",
     "text": [
      "Comptroller: 0x9766f97582452DF92dAAA030E28C1FDecB2671a7\n",
      "Market: 0x14DF3841303A301b3BAE86fB290b90DC6a791D16 4.618056982065574 MIM\n",
      "Market: 0xbD60DBeAaBac55a52D2085F7786B54913424Fd3F 2.67e-06 WBTC\n"
     ]
    },
    {
     "name": "stderr",
     "output_type": "stream",
     "text": [
      "Processing markets:  43%|████▎     | 33/77 [01:36<02:10,  2.96s/it]"
     ]
    },
    {
     "name": "stdout",
     "output_type": "stream",
     "text": [
      "Comptroller: 0x1b6200257C14B8B3BB876b8f36D535239E83cE27\n",
      "Market: 0x6AB693dC4c4A52C063934b861DC64977783A40d7 1.0006279 ARB\n",
      "Market: 0xa50fEe4356943bFC5a7Be38466baFf7CeE6A416D 1.003617 USDC\n",
      "Market: 0xb59b4c6015b20D8076F912C79AEbFcAc441d4Ee2 0.00051 WETH\n"
     ]
    },
    {
     "name": "stderr",
     "output_type": "stream",
     "text": [
      "Processing markets:  44%|████▍     | 34/77 [01:39<02:17,  3.20s/it]"
     ]
    },
    {
     "name": "stdout",
     "output_type": "stream",
     "text": [
      "Comptroller: 0x5aDa4F2951d6BDc644605FF7241354c85AC5B7B1\n",
      "Market: 0x03FCED65cdde966555dB96bF2A5E9A97564dBe05 0.3 fsGLP\n",
      "Market: 0x6995406a7e0f6D6808A0a8be54019dCaDeE23434 0.7 USDC\n",
      "Market: 0xEcCAECa08a6AD9D96A782B65c5e7F9834a5126c3 1.0 fsGLP\n"
     ]
    },
    {
     "name": "stderr",
     "output_type": "stream",
     "text": [
      "Processing markets:  47%|████▋     | 36/77 [01:42<01:30,  2.20s/it]"
     ]
    },
    {
     "name": "stdout",
     "output_type": "stream",
     "text": [
      "Comptroller: 0xb05C42E2dee393eF96bDcdcC7Fe69039Ea625B92\n",
      "Market: 0xEFe4fD96eD3415978C02997b65912E37430B6746 1.0 MAGIC\n"
     ]
    },
    {
     "name": "stderr",
     "output_type": "stream",
     "text": [
      "Processing markets:  48%|████▊     | 37/77 [01:51<02:53,  4.35s/it]"
     ]
    },
    {
     "name": "stdout",
     "output_type": "stream",
     "text": [
      "Comptroller: 0xc8A1466cd9f2D6401675E06b9905357F564811BA\n",
      "Market: 0x2E972AeE995973F1e0761fc2C36cCdd310313d73 8135.83008953229 fsGLP\n",
      "Market: 0x1712Ad1C0ECbBc110951b6F1e6396B8CB3Ea9C9d 54.441022 USDC\n",
      "Market: 0x1354E9941127AcCbd22EA70527dA528BF5E24859 0.4755205105436905 WETH\n",
      "Market: 0xa160Eb13d3422E979b90EE59cC17cbA000eF015e 50.235551868946054 DAI\n",
      "Market: 0x8F27CE5e5b449Ff37F3f7aa2B406C286e013e183 14.986990552089281 FRAX\n",
      "Market: 0xAf612B3Bb8b838fE977577cAe28d354b5074622d 74.799736 USDT\n",
      "Market: 0xe514c8b357E49Efa24e648bBa45C7C5978BD59f9 1.682901558890304 UNI\n",
      "Market: 0xC9213eF74067AD5D6a3CdDB2229d332598E97D62 0.6253545949836139 LINK\n",
      "Market: 0x023DCAdbaEBd38940D7203eDC10143f937253268 0.00035104 WBTC\n",
      "Market: 0x750b148dC7a2132C6D35509c8dA4011c34E4C782 0.000143842581288863 ARB\n",
      "Market: 0x315D516055aaF15B838b21ab192Fc363a35B49d4 0.000597495433189537 rETH\n",
      "Market: 0x604b089FaF0bdd33c4454A1304CBD720048469E4 74.91818507113598 CAP\n",
      "Market: 0x06eA4F0D1418bb3D151e14E30928B0C448081B09 2.601464125725e-06 VLP\n",
      "Market: 0xFB8A730220aa3AA1fd234b21a858994e663318D1 2451.9144290589975 VLP\n",
      "Market: 0x6D325CD5ed16b682A7655942Db69B9C00b904e59 0.000999973842700136 HLP\n"
     ]
    },
    {
     "name": "stderr",
     "output_type": "stream",
     "text": [
      "Processing markets:  49%|████▉     | 38/77 [01:56<02:52,  4.42s/it]"
     ]
    },
    {
     "name": "stdout",
     "output_type": "stream",
     "text": [
      "Comptroller: 0xdcFd3017A59ADBC4EfF7492bA416a0E4170CEDfB\n",
      "Market: 0xf81263eB84dfA118261cB9377F2c46Ca04689E6e 31.62723783618672 DPX\n",
      "Market: 0xc9c043A7f80258d492121d2f34e829EB6517Eb17 40699.634006483226 FRAX\n",
      "Market: 0x01c7068Ea92D3da2A1dAD145C96C0F9398Be93f2 19915.638766705284 MAGIC\n",
      "Market: 0x2d5a5306E6Cd7133AE576eb5eDB2128D79D11A88 11816.583861 USDT\n",
      "Market: 0xd917d67f9dD5fA3A193f1e076C8c636867A3571b 1.47724324 WBTC\n",
      "Market: 0x8c7B5F470251fED433e38215a959eeEFc900d995 436.41030575969967 DAI\n",
      "Market: 0xe57390EB5F0dd76B545d7349845839Ad6A4faee8 31486.83443045186 ARB\n"
     ]
    },
    {
     "name": "stderr",
     "output_type": "stream",
     "text": [
      "Processing markets:  51%|█████     | 39/77 [01:58<02:25,  3.84s/it]"
     ]
    },
    {
     "name": "stdout",
     "output_type": "stream",
     "text": [
      "Comptroller: 0xe656044c6922C7Ce55a2B25B8a8Db5F0858CFcD8\n",
      "Market: 0xBd33303D0A586ca5950e3aDd96898Fe5a4f88637 0.00043807 WBTC\n",
      "Market: 0x4dFeE3Ebb3D5Eb62c266a73c3403bf6395a16135 3.529657 USDC\n",
      "Market: 0xC87d75C8eCC848eBAE59821aD6be10926E937087 16.548529 USDT\n",
      "Market: 0x72Df63627e20524842F74bdC5a89ccD05E8f4A65 9.804801051580073 DAI\n"
     ]
    },
    {
     "name": "stderr",
     "output_type": "stream",
     "text": [
      "Processing markets:  52%|█████▏    | 40/77 [02:02<02:21,  3.82s/it]"
     ]
    },
    {
     "name": "stdout",
     "output_type": "stream",
     "text": [
      "Comptroller: 0x5A240f1a8Ae87acf6F85A991E4a1315655C4D2E6\n",
      "Market: 0xeFe525eFB8277b99d783867a22c8805E718Ce14B 1.00374 USDC\n",
      "Market: 0xB684492c6cfC38ff1A4098E69034bf524a651C78 3.994749 USDT\n"
     ]
    },
    {
     "name": "stderr",
     "output_type": "stream",
     "text": [
      "Processing markets:  53%|█████▎    | 41/77 [02:04<01:53,  3.16s/it]"
     ]
    },
    {
     "name": "stdout",
     "output_type": "stream",
     "text": [
      "Comptroller: 0x51AA3f5ef84c83AC9978e1BE5AcE98Fa38043C92\n",
      "Market: 0xacEf06808fecC659dd2128a872832b1B93b951F0 0.08 RPL\n"
     ]
    },
    {
     "name": "stderr",
     "output_type": "stream",
     "text": [
      "Processing markets:  56%|█████▌    | 43/77 [02:11<02:03,  3.62s/it]"
     ]
    },
    {
     "name": "stdout",
     "output_type": "stream",
     "text": [
      "Comptroller: 0x60437FEE4ddBdA6e47955b6255E312F1ED067033\n",
      "Market: 0x29D4Cf28db3f978591F9868006BD3c5D2f36801f 1.109e-05 WBTC\n",
      "Market: 0x86356683eca061FA3dD795aF3A22a1530a999b58 0.12953646642453007 FRAX\n",
      "Market: 0xCAA772eaCbCAD50E0decC64Ab4748DC1A11Cf731 0.248727 USDT\n",
      "Market: 0xE30a6c7caBFB3b509EC2e765A70cA399a4d9e2f1 2.9138228467159397 LINK\n",
      "Market: 0x75095636CD74FdDA8bC36a2bdC455489C86B30bf 0.17884646428951986 UNI\n",
      "Market: 0x3fD112f5c6648DD3832722099D034c9bdb0798bD 35.38552333373079 fsGLP\n",
      "Market: 0x916b44509CcfC5238f8Ce9a30bEB1BF861B70779 0.7175469010785828 DAI\n",
      "Market: 0x8abC4876bc288D0eeca9bdf74434A96f2EBB72dc 0.1 fsGLP\n"
     ]
    },
    {
     "name": "stderr",
     "output_type": "stream",
     "text": [
      "Processing markets:  60%|█████▉    | 46/77 [02:22<02:08,  4.16s/it]"
     ]
    },
    {
     "name": "stdout",
     "output_type": "stream",
     "text": [
      "Comptroller: 0x84A57414910FBfE9f5503bFCA2F1e31B6Ad0981A\n",
      "Market: 0x72270948A600a2ff8fd535e0ABe027324E539A5C 0.1 fsGLP\n",
      "Market: 0xdd1091206EcA48dfc08315242AE4a0b4b0AAA740 0.0001 fsGLP\n",
      "Market: 0x707eb569F0093bd583849e5bfD6D11dda60a107B 0.1 fsGLP\n",
      "Market: 0x7A0766e8540C15B8De6966cd5CBCC2372a21FAf8 0.001000000000000001 fsGLP\n",
      "Market: 0xa5B876e903C5151Db70515F3A5CAb987484F5e2B 3e-18 fsGLP\n",
      "Market: 0x568C81dFA11B670abd973b7207EFB41c795ea40e 1.1e-17 fsGLP\n"
     ]
    },
    {
     "name": "stderr",
     "output_type": "stream",
     "text": [
      "Processing markets:  68%|██████▊   | 52/77 [02:29<00:40,  1.63s/it]"
     ]
    },
    {
     "name": "stdout",
     "output_type": "stream",
     "text": [
      "Comptroller: 0x068134C0916583787320BDAF4381509E83990499\n",
      "Market: 0xAd2fB9A27Fd46865BBa1d2954BD0700e7428Dfb7 10.0 USDT\n",
      "Market: 0x0ECDd9d55F03a3D626fA5734C7eecdcB3fADB737 10.0 USDC\n"
     ]
    },
    {
     "name": "stderr",
     "output_type": "stream",
     "text": [
      "Processing markets:  71%|███████▏  | 55/77 [02:32<00:30,  1.39s/it]"
     ]
    },
    {
     "name": "stdout",
     "output_type": "stream",
     "text": [
      "Comptroller: 0x2d6f21b68F8c56a86d25b4A80857c32322b2f63D\n",
      "Market: 0x608B758624F0DFBf84E5f86aF655f5cfBdFEEdA1 1.005945 USDC\n",
      "Market: 0x5EC9A72e2987CE907Ad78724e83927d8C66A4555 3e-08 WBTC\n"
     ]
    },
    {
     "name": "stderr",
     "output_type": "stream",
     "text": [
      "Processing markets:  74%|███████▍  | 57/77 [02:35<00:27,  1.37s/it]"
     ]
    },
    {
     "name": "stdout",
     "output_type": "stream",
     "text": [
      "Comptroller: 0xC9fe91C452Fa3f9329e5f20C5555eCF60EC71d52\n",
      "Market: 0x72E28688614AB71AAFd8B31dA28e1aCb44549478 2.215992458758e-06 gOHM\n",
      "Market: 0x8A9733cf8F7B60DE75AdF64f6fF37Fb651BFFdcd 0.005775 USDC\n"
     ]
    },
    {
     "name": "stderr",
     "output_type": "stream",
     "text": [
      "Processing markets:  75%|███████▌  | 58/77 [02:41<00:53,  2.83s/it]"
     ]
    },
    {
     "name": "stdout",
     "output_type": "stream",
     "text": [
      "Comptroller: 0x69ef8Ac8A7bb4A406eCa3A5f9d023814D199a565\n",
      "Market: 0xDe875C08641104442a812712ad49c4f1939810d4 2429.40538 USDC\n",
      "Market: 0xaD80625B537adC004f0dD98Ed5f35139BD787f1f 0.00200215 WBTC\n",
      "Market: 0xEDFb4ec7A23F5105DBc388a51Fc584Ff26F8c644 711.273935 USDT\n",
      "Market: 0xA12A0521005876cE7173b3e187fa560692D02536 338.29679738788064 DAI\n",
      "Market: 0xB5292c1F992EfaBd3187Ebd27b8b48080943BBb5 2.0 SUSHI\n",
      "Market: 0xdA5d7b9808F3723fEe80da483a8d15934b6b0bD6 87.29085247134304 MIM\n",
      "Market: 0x9f32046190Bce08289798144D2d8BB53eF1c4C7A 2205.0 SPELL\n",
      "Market: 0x2af36cbFe3D4Bf8468dd3B6Ea1f6052E188c33a7 1.068025 UNI\n",
      "Market: 0x7a2A3bD00c04d96211Ffc33Dc25f251E046cA7dA 0.7785659448462725 gOHM\n"
     ]
    },
    {
     "name": "stderr",
     "output_type": "stream",
     "text": [
      "Processing markets:  77%|███████▋  | 59/77 [02:42<00:40,  2.26s/it]"
     ]
    },
    {
     "name": "stdout",
     "output_type": "stream",
     "text": [
      "Comptroller: 0x0BB220FEa7928A97aEf0996788d2f26D8cC0AeAa\n",
      "Market: 0x13C84c2E5850562D1aa3B03758cE11C3C9C2F3a5 1.0 USDT\n"
     ]
    },
    {
     "name": "stderr",
     "output_type": "stream",
     "text": [
      "Processing markets:  79%|███████▉  | 61/77 [02:43<00:25,  1.58s/it]"
     ]
    },
    {
     "name": "stdout",
     "output_type": "stream",
     "text": [
      "Comptroller: 0xa973821E201B2C398063AC9c9B6B011D6FE5dfa3\n",
      "Market: 0xDFD276A2460eDb150DE2622f2D947EEa21C3EE48 6.547311224168091 plvGLP\n",
      "Market: 0xeF25968ECC2f13b6272a37312a409D429DEF70AB 4.627075 USDC\n"
     ]
    },
    {
     "name": "stderr",
     "output_type": "stream",
     "text": [
      "Processing markets:  82%|████████▏ | 63/77 [02:46<00:20,  1.43s/it]"
     ]
    },
    {
     "name": "stdout",
     "output_type": "stream",
     "text": [
      "Comptroller: 0x7170D38B90f4b0D097E0a24174aD74fA42d07b81\n",
      "Market: 0xcb1346CAbDE763Af950b602a2f18fCD27d96E4C2 10000000.0 CORE\n"
     ]
    },
    {
     "name": "stderr",
     "output_type": "stream",
     "text": [
      "Processing markets:  83%|████████▎ | 64/77 [02:48<00:21,  1.62s/it]"
     ]
    },
    {
     "name": "stdout",
     "output_type": "stream",
     "text": [
      "Comptroller: 0x7892c7Ee7981D2C5e34FF8b0252493b64D84483A\n",
      "Market: 0x79E126A21aE6aDC845602Af9D9D14a9d0CC9689A 0.99998 USDC\n",
      "Market: 0x97296cc263f35d0EEbDd87e04154Cb3F86022c4D 1.0000000001999994 plvGLP\n",
      "Market: 0x4438bd464d0be4c5110788dF6C95664EbaB6F83D 4.18617 USDT\n"
     ]
    },
    {
     "name": "stderr",
     "output_type": "stream",
     "text": [
      "Processing markets:  84%|████████▍ | 65/77 [02:50<00:20,  1.68s/it]"
     ]
    },
    {
     "name": "stdout",
     "output_type": "stream",
     "text": [
      "Comptroller: 0xA22A3dad6fD8Bd35FFe0Ad5433ef219406Ff7B51\n",
      "Market: 0x6976D1C008310E734C99c5Ea787C6467BB3cf26d 0.0153 pSLP\n",
      "Market: 0x5E3A49AD60CAE9d9d6C14E7fbaD29D58A6b3CeC5 0.008998510485881317 pSLP\n"
     ]
    },
    {
     "name": "stderr",
     "output_type": "stream",
     "text": [
      "Processing markets:  86%|████████▌ | 66/77 [02:52<00:18,  1.69s/it]"
     ]
    },
    {
     "name": "stdout",
     "output_type": "stream",
     "text": [
      "Comptroller: 0x96E8Db21A3911A97a24c6aF10f14e15D4c950054\n",
      "Market: 0xC0c997227922004DA3a47185ac2be1d648db0062 100000000.13418518 INTR\n"
     ]
    },
    {
     "name": "stderr",
     "output_type": "stream",
     "text": [
      "Processing markets:  88%|████████▊ | 68/77 [02:57<00:20,  2.31s/it]"
     ]
    },
    {
     "name": "stdout",
     "output_type": "stream",
     "text": [
      "Comptroller: 0x1a1E390F83962d3f0b38EDb6FCFaD27866204090\n",
      "Market: 0x1B4d8C830059C61FF990228d072bd431937f68C5 1.712581 USDC\n",
      "Market: 0x1AACb6821764e014EA1363a7d5531A0f5b047bD4 1.986673 USDT\n",
      "Market: 0x6f2b722599Ea8C26748f9B964bC9D385aC4aF866 1e-08 WBTC\n",
      "Market: 0x587ba560448D3681dC32e4F5b782bB3C249FE5a0 0.002659719539881996 FRAX\n"
     ]
    },
    {
     "name": "stderr",
     "output_type": "stream",
     "text": [
      "Processing markets:  95%|█████████▍| 73/77 [03:01<00:04,  1.11s/it]"
     ]
    },
    {
     "name": "stdout",
     "output_type": "stream",
     "text": [
      "Comptroller: 0x18579B566019F85654C59C3b802d6e8F3B178B7b\n",
      "Market: 0xd861026A12623aec769fA57D05201193D8844368 4.47939764923e-07 gOHM\n"
     ]
    },
    {
     "name": "stderr",
     "output_type": "stream",
     "text": [
      "Processing markets:  99%|█████████▊| 76/77 [03:05<00:01,  1.68s/it]"
     ]
    },
    {
     "name": "stdout",
     "output_type": "stream",
     "text": [
      "Comptroller: 0xbEbeF25702c845aAdee25DCf9a63D248C8fe5DAC\n",
      "Market: 0xdFDb77841fD623aeC83D74df94E82dD073efCFb1 1.031967 USDT\n",
      "Market: 0xc67DCCC71d3F9122ABb7Bfa38c6eA7120ED9bD65 1.000012 USDC\n",
      "Market: 0x242f9347f485fDf8feF82e1B1de72b5C27F7eBcF 1e-18 fsGLP\n"
     ]
    },
    {
     "name": "stderr",
     "output_type": "stream",
     "text": [
      "Processing markets: 100%|██████████| 77/77 [03:06<00:00,  2.43s/it]"
     ]
    },
    {
     "name": "stdout",
     "output_type": "stream",
     "text": [
      "Comptroller: 0xD3a8ed9Cf0Ef1Bd677C6Ae7a2178837BED35aeBD\n",
      "Market: 0xE728c318A6fD3b605726E810C2c542FD8056708c 2.5 plvGLP\n",
      "Market: 0xF17C9D4062e2e652f81E43f9304EdDE3Fb3e63dB 1.3 USDC\n",
      "Comptrollers with cash:  39\n"
     ]
    },
    {
     "name": "stderr",
     "output_type": "stream",
     "text": [
      "\n"
     ]
    }
   ],
   "source": [
    "comptroller_abi = [{\n",
    "    \"constant\": True,\n",
    "    \"inputs\": [],\n",
    "    \"name\": \"getAllMarkets\",\n",
    "    \"outputs\": [{\"name\": \"\", \"type\": \"address[]\"}],\n",
    "    \"payable\": False,\n",
    "    \"stateMutability\": \"view\",\n",
    "    \"type\": \"function\"\n",
    "}]\n",
    "\n",
    "market_abi = [{\n",
    "    \"constant\": True,\n",
    "    \"inputs\": [],\n",
    "    \"name\": \"underlying\",\n",
    "    \"outputs\": [{\"name\": \"\", \"type\": \"address\"}],\n",
    "    \"payable\": False,\n",
    "    \"stateMutability\": \"view\",\n",
    "    \"type\": \"function\"\n",
    "},\n",
    "{\n",
    "    \"constant\": True,\n",
    "    \"inputs\": [],\n",
    "    \"name\": \"getCash\",\n",
    "    \"outputs\": [{\"name\": \"\", \"type\": \"uint256\"}],\n",
    "    \"payable\": False,\n",
    "    \"stateMutability\": \"view\",\n",
    "    \"type\": \"function\"\n",
    "}]\n",
    "\n",
    "\n",
    "underlying_abi = [{\n",
    "    \"constant\": True,\n",
    "    \"inputs\": [],\n",
    "    \"name\": \"decimals\",\n",
    "    \"outputs\": [{\"name\": \"\", \"type\": \"uint8\"}],\n",
    "    \"payable\": False,\n",
    "    \"stateMutability\": \"view\",\n",
    "    \"type\": \"function\"\n",
    "}, {\n",
    "    \"constant\": True,\n",
    "    \"inputs\": [],\n",
    "    \"name\": \"symbol\",\n",
    "    \"outputs\": [{\"name\": \"\", \"type\": \"string\"}],\n",
    "    \"payable\": False,\n",
    "    \"stateMutability\": \"view\",\n",
    "    \"type\": \"function\"\n",
    "}]\n",
    "\n",
    "\n",
    "non_zero_colfactor_markets.drop_duplicates(subset=['COMPTROLLER'], keep='first', inplace=True)\n",
    "comptrollers_df = pd.DataFrame(columns=['COMPTROLLER', 'MARKET', 'SYMBOL', 'CASH'])\n",
    "\n",
    "for _, row in tqdm(non_zero_colfactor_markets.iterrows(), desc=\"Processing markets\", total=non_zero_colfactor_markets.shape[0]):\n",
    "    comptroller_address = w3.to_checksum_address(row['COMPTROLLER'])\n",
    "    comptroller = w3.eth.contract(address=comptroller_address, abi=comptroller_abi)\n",
    "    all_markets = comptroller.functions.getAllMarkets().call()\n",
    "\n",
    "    for address in all_markets:\n",
    "        try:\n",
    "            market = w3.eth.contract(address=address, abi=market_abi)\n",
    "            cash = market.functions.getCash().call()\n",
    "            underlying_address = market.functions.underlying().call()\n",
    "            underlying = w3.eth.contract(address=underlying_address, abi=underlying_abi)\n",
    "            decimals = underlying.functions.decimals().call()\n",
    "            symbol = underlying.functions.symbol().call()\n",
    "            cash_in_market = cash / (10 ** decimals)\n",
    "\n",
    "            if cash_in_market > 0:\n",
    "                new_row = pd.DataFrame({'COMPTROLLER': [comptroller_address], 'MARKET': [address], 'SYMBOL': [symbol], 'CASH': [cash_in_market]})\n",
    "                comptrollers_df = pd.concat([comptrollers_df, new_row], ignore_index=True)\n",
    "        except Exception as e:\n",
    "            continue\n",
    "\n",
    "    current_comptroller_markets = comptrollers_df[comptrollers_df['COMPTROLLER'] == comptroller_address]\n",
    "    \n",
    "    if len(current_comptroller_markets) > 0:\n",
    "        print(f\"Comptroller: {comptroller_address}\")\n",
    "        for _, row in current_comptroller_markets.iterrows():\n",
    "            print(f\"Market: {row['MARKET']} {row['CASH']} {row['SYMBOL']}\")\n",
    "\n",
    "\n",
    "print(\"Comptrollers with cash: \", len(comptrollers_df['COMPTROLLER'].unique()))\n",
    "\n"
   ]
  }
 ],
 "metadata": {
  "kernelspec": {
   "display_name": "Python 3",
   "language": "python",
   "name": "python3"
  },
  "language_info": {
   "codemirror_mode": {
    "name": "ipython",
    "version": 3
   },
   "file_extension": ".py",
   "mimetype": "text/x-python",
   "name": "python",
   "nbconvert_exporter": "python",
   "pygments_lexer": "ipython3",
   "version": "3.11.6"
  }
 },
 "nbformat": 4,
 "nbformat_minor": 2
}
